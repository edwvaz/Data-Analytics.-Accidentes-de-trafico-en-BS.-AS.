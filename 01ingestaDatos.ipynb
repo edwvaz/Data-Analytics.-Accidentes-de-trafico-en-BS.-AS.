{
 "cells": [
  {
   "cell_type": "markdown",
   "metadata": {},
   "source": [
    "# Ingesta de datos\n",
    "\n",
    "En esta sección hago la ingesta de los dataframe pasados por la cohorte y luego le aplico limpieza de datos como: \n",
    "1. Carga de mis dataframe.\n",
    "2. Verificación de existencia de nulos y su tratamiento (borrar nulos).\n",
    "3. Verificación de existencia de duplicados (borrar duplicados).\n",
    "4. Análisis estadísticos de los dataframes (df.describe).\n",
    "5. Elección de columnas de cada dataframe.\n",
    "6. Tipos de datos de los dataframe (df_info()).\n",
    "7. Convertir a tipo de datos necesarios para mi análisis.\n",
    "8. Guardar dataframe para el análisis exploratorio de datos.\n",
    "\n",
    "La cohorte nos brindó 2 dataframe (homicidios.xlsx y lesiones.xlsx) y cada uno de estos tenían 2 pestañas llamadas hechos y víctimas, por lo que creé 4 archivos llamados\n",
    "- homicidios.hechos.xlsx\n",
    "- homicidios.victimas.xlsx\n",
    "- lesiones.hechos.xlsx\n",
    "- lesiones .victimas.xlsx\n"
   ]
  },
  {
   "cell_type": "markdown",
   "metadata": {},
   "source": [
    "## Importo mis librerías"
   ]
  },
  {
   "cell_type": "code",
   "execution_count": 1,
   "metadata": {},
   "outputs": [],
   "source": [
    "import pandas as pd\n"
   ]
  },
  {
   "cell_type": "markdown",
   "metadata": {},
   "source": [
    "#### 1. Carga de mi dataframe homicidios.hechos."
   ]
  },
  {
   "cell_type": "code",
   "execution_count": 2,
   "metadata": {},
   "outputs": [
    {
     "data": {
      "text/html": [
       "<div>\n",
       "<style scoped>\n",
       "    .dataframe tbody tr th:only-of-type {\n",
       "        vertical-align: middle;\n",
       "    }\n",
       "\n",
       "    .dataframe tbody tr th {\n",
       "        vertical-align: top;\n",
       "    }\n",
       "\n",
       "    .dataframe thead th {\n",
       "        text-align: right;\n",
       "    }\n",
       "</style>\n",
       "<table border=\"1\" class=\"dataframe\">\n",
       "  <thead>\n",
       "    <tr style=\"text-align: right;\">\n",
       "      <th></th>\n",
       "      <th>ID</th>\n",
       "      <th>N_VICTIMAS</th>\n",
       "      <th>FECHA</th>\n",
       "      <th>AAAA</th>\n",
       "      <th>MM</th>\n",
       "      <th>DD</th>\n",
       "      <th>HORA</th>\n",
       "      <th>HH</th>\n",
       "      <th>LUGAR_DEL_HECHO</th>\n",
       "      <th>TIPO_DE_CALLE</th>\n",
       "      <th>...</th>\n",
       "      <th>Altura</th>\n",
       "      <th>Cruce</th>\n",
       "      <th>Dirección Normalizada</th>\n",
       "      <th>COMUNA</th>\n",
       "      <th>XY (CABA)</th>\n",
       "      <th>pos x</th>\n",
       "      <th>pos y</th>\n",
       "      <th>PARTICIPANTES</th>\n",
       "      <th>VICTIMA</th>\n",
       "      <th>ACUSADO</th>\n",
       "    </tr>\n",
       "  </thead>\n",
       "  <tbody>\n",
       "    <tr>\n",
       "      <th>0</th>\n",
       "      <td>2016-0001</td>\n",
       "      <td>1</td>\n",
       "      <td>2016-01-01</td>\n",
       "      <td>2016</td>\n",
       "      <td>1</td>\n",
       "      <td>1</td>\n",
       "      <td>04:00:00</td>\n",
       "      <td>4</td>\n",
       "      <td>AV PIEDRA BUENA Y AV FERNANDEZ DE LA CRUZ</td>\n",
       "      <td>AVENIDA</td>\n",
       "      <td>...</td>\n",
       "      <td>NaN</td>\n",
       "      <td>FERNANDEZ DE LA CRUZ, F., GRAL. AV.</td>\n",
       "      <td>PIEDRA BUENA AV. y FERNANDEZ DE LA CRUZ, F., G...</td>\n",
       "      <td>8</td>\n",
       "      <td>Point (98896.78238426 93532.43437792)</td>\n",
       "      <td>-58.47533969</td>\n",
       "      <td>-34.68757022</td>\n",
       "      <td>MOTO-AUTO</td>\n",
       "      <td>MOTO</td>\n",
       "      <td>AUTO</td>\n",
       "    </tr>\n",
       "    <tr>\n",
       "      <th>1</th>\n",
       "      <td>2016-0002</td>\n",
       "      <td>1</td>\n",
       "      <td>2016-01-02</td>\n",
       "      <td>2016</td>\n",
       "      <td>1</td>\n",
       "      <td>2</td>\n",
       "      <td>01:15:00</td>\n",
       "      <td>1</td>\n",
       "      <td>AV GRAL PAZ  Y AV DE LOS CORRALES</td>\n",
       "      <td>GRAL PAZ</td>\n",
       "      <td>...</td>\n",
       "      <td>NaN</td>\n",
       "      <td>DE LOS CORRALES AV.</td>\n",
       "      <td>PAZ, GRAL. AV. y DE LOS CORRALES AV.</td>\n",
       "      <td>9</td>\n",
       "      <td>Point (95832.05571093 95505.41641999)</td>\n",
       "      <td>-58.50877521</td>\n",
       "      <td>-34.66977709</td>\n",
       "      <td>AUTO-PASAJEROS</td>\n",
       "      <td>AUTO</td>\n",
       "      <td>PASAJEROS</td>\n",
       "    </tr>\n",
       "  </tbody>\n",
       "</table>\n",
       "<p>2 rows × 21 columns</p>\n",
       "</div>"
      ],
      "text/plain": [
       "          ID  N_VICTIMAS      FECHA  AAAA  MM  DD      HORA HH  \\\n",
       "0  2016-0001           1 2016-01-01  2016   1   1  04:00:00  4   \n",
       "1  2016-0002           1 2016-01-02  2016   1   2  01:15:00  1   \n",
       "\n",
       "                             LUGAR_DEL_HECHO TIPO_DE_CALLE  ... Altura  \\\n",
       "0  AV PIEDRA BUENA Y AV FERNANDEZ DE LA CRUZ       AVENIDA  ...    NaN   \n",
       "1          AV GRAL PAZ  Y AV DE LOS CORRALES      GRAL PAZ  ...    NaN   \n",
       "\n",
       "                                 Cruce  \\\n",
       "0  FERNANDEZ DE LA CRUZ, F., GRAL. AV.   \n",
       "1                  DE LOS CORRALES AV.   \n",
       "\n",
       "                               Dirección Normalizada COMUNA  \\\n",
       "0  PIEDRA BUENA AV. y FERNANDEZ DE LA CRUZ, F., G...      8   \n",
       "1               PAZ, GRAL. AV. y DE LOS CORRALES AV.      9   \n",
       "\n",
       "                               XY (CABA)         pos x         pos y  \\\n",
       "0  Point (98896.78238426 93532.43437792)  -58.47533969  -34.68757022   \n",
       "1  Point (95832.05571093 95505.41641999)  -58.50877521  -34.66977709   \n",
       "\n",
       "    PARTICIPANTES VICTIMA    ACUSADO  \n",
       "0       MOTO-AUTO    MOTO       AUTO  \n",
       "1  AUTO-PASAJEROS    AUTO  PASAJEROS  \n",
       "\n",
       "[2 rows x 21 columns]"
      ]
     },
     "execution_count": 2,
     "metadata": {},
     "output_type": "execute_result"
    }
   ],
   "source": [
    "dfhomicidiosHechos= pd.read_excel(\"Datasets/homicidios.hechos.xlsx\")\n",
    "dfhomicidiosHechos.head(2)"
   ]
  },
  {
   "cell_type": "markdown",
   "metadata": {},
   "source": [
    "#### 2. Verificación de existencia de nulos y su tratamiento (borrar nulos).\n",
    "- No hay nulos con excepción en las columnas \"Altura\", \"Cruce\", \"Calle\" y \"Dirección Normalizada\".\n",
    "- Borro los nulos de \"Dirección Normalizada\" y \"Calle\" ya que estas columnas las usaré, luego las otras dos columnas las borraré. Habían  nulos en la columna \"Dirección Normalizada\" y \"Calle\" que representan el (9/696)*100=1.15% de los homicidios."
   ]
  },
  {
   "cell_type": "code",
   "execution_count": 3,
   "metadata": {},
   "outputs": [
    {
     "data": {
      "text/plain": [
       "ID                         0\n",
       "N_VICTIMAS                 0\n",
       "FECHA                      0\n",
       "AAAA                       0\n",
       "MM                         0\n",
       "DD                         0\n",
       "HORA                       0\n",
       "HH                         0\n",
       "LUGAR_DEL_HECHO            0\n",
       "TIPO_DE_CALLE              0\n",
       "Calle                      1\n",
       "Altura                   567\n",
       "Cruce                    171\n",
       "Dirección Normalizada      8\n",
       "COMUNA                     0\n",
       "XY (CABA)                  0\n",
       "pos x                      0\n",
       "pos y                      0\n",
       "PARTICIPANTES              0\n",
       "VICTIMA                    0\n",
       "ACUSADO                    0\n",
       "dtype: int64"
      ]
     },
     "execution_count": 3,
     "metadata": {},
     "output_type": "execute_result"
    }
   ],
   "source": [
    "dfhomicidiosHechos.isnull().sum()"
   ]
  },
  {
   "cell_type": "markdown",
   "metadata": {},
   "source": [
    "Eliminación de nulos"
   ]
  },
  {
   "cell_type": "code",
   "execution_count": 4,
   "metadata": {},
   "outputs": [],
   "source": [
    "dfhomicidiosHechos=dfhomicidiosHechos.dropna(subset=[\"Dirección Normalizada\",\"Calle\"])"
   ]
  },
  {
   "cell_type": "code",
   "execution_count": 5,
   "metadata": {},
   "outputs": [
    {
     "data": {
      "text/plain": [
       "ID                         0\n",
       "N_VICTIMAS                 0\n",
       "FECHA                      0\n",
       "AAAA                       0\n",
       "MM                         0\n",
       "DD                         0\n",
       "HORA                       0\n",
       "HH                         0\n",
       "LUGAR_DEL_HECHO            0\n",
       "TIPO_DE_CALLE              0\n",
       "Calle                      0\n",
       "Altura                   559\n",
       "Cruce                    163\n",
       "Dirección Normalizada      0\n",
       "COMUNA                     0\n",
       "XY (CABA)                  0\n",
       "pos x                      0\n",
       "pos y                      0\n",
       "PARTICIPANTES              0\n",
       "VICTIMA                    0\n",
       "ACUSADO                    0\n",
       "dtype: int64"
      ]
     },
     "execution_count": 5,
     "metadata": {},
     "output_type": "execute_result"
    }
   ],
   "source": [
    "dfhomicidiosHechos.isnull().sum()"
   ]
  },
  {
   "cell_type": "markdown",
   "metadata": {},
   "source": [
    "#### 3. Verificación de existencia de duplicados (borrar duplicados)."
   ]
  },
  {
   "cell_type": "code",
   "execution_count": 6,
   "metadata": {},
   "outputs": [],
   "source": [
    "dfhomicidiosHechos = dfhomicidiosHechos.drop_duplicates()"
   ]
  },
  {
   "cell_type": "markdown",
   "metadata": {},
   "source": [
    "#### 4. Análisis estadísticos del dataframe (df.describe).\n",
    "- Vemos como el número de victimas promedio por accidente es 1,03 o sea que en la mayoría de los accidentes solo muere una persona.\n",
    "- Vemos que el máximo número de victimas es 3, o sea que nunca han muerto 4 personas o mas en un accidente.\n",
    "- Las demás columnas no lanzan resultados relevantes."
   ]
  },
  {
   "cell_type": "code",
   "execution_count": 7,
   "metadata": {},
   "outputs": [
    {
     "data": {
      "text/html": [
       "<div>\n",
       "<style scoped>\n",
       "    .dataframe tbody tr th:only-of-type {\n",
       "        vertical-align: middle;\n",
       "    }\n",
       "\n",
       "    .dataframe tbody tr th {\n",
       "        vertical-align: top;\n",
       "    }\n",
       "\n",
       "    .dataframe thead th {\n",
       "        text-align: right;\n",
       "    }\n",
       "</style>\n",
       "<table border=\"1\" class=\"dataframe\">\n",
       "  <thead>\n",
       "    <tr style=\"text-align: right;\">\n",
       "      <th></th>\n",
       "      <th>N_VICTIMAS</th>\n",
       "      <th>FECHA</th>\n",
       "      <th>AAAA</th>\n",
       "      <th>MM</th>\n",
       "      <th>DD</th>\n",
       "      <th>Altura</th>\n",
       "      <th>COMUNA</th>\n",
       "    </tr>\n",
       "  </thead>\n",
       "  <tbody>\n",
       "    <tr>\n",
       "      <th>count</th>\n",
       "      <td>688.00000</td>\n",
       "      <td>688</td>\n",
       "      <td>688.000000</td>\n",
       "      <td>688.000000</td>\n",
       "      <td>688.000000</td>\n",
       "      <td>129.000000</td>\n",
       "      <td>688.000000</td>\n",
       "    </tr>\n",
       "    <tr>\n",
       "      <th>mean</th>\n",
       "      <td>1.02907</td>\n",
       "      <td>2018-09-16 22:34:11.162790656</td>\n",
       "      <td>2018.194767</td>\n",
       "      <td>6.703488</td>\n",
       "      <td>15.931686</td>\n",
       "      <td>3336.635659</td>\n",
       "      <td>7.417151</td>\n",
       "    </tr>\n",
       "    <tr>\n",
       "      <th>min</th>\n",
       "      <td>1.00000</td>\n",
       "      <td>2016-01-01 00:00:00</td>\n",
       "      <td>2016.000000</td>\n",
       "      <td>1.000000</td>\n",
       "      <td>1.000000</td>\n",
       "      <td>30.000000</td>\n",
       "      <td>0.000000</td>\n",
       "    </tr>\n",
       "    <tr>\n",
       "      <th>25%</th>\n",
       "      <td>1.00000</td>\n",
       "      <td>2017-04-03 00:00:00</td>\n",
       "      <td>2017.000000</td>\n",
       "      <td>4.000000</td>\n",
       "      <td>9.000000</td>\n",
       "      <td>1359.000000</td>\n",
       "      <td>4.000000</td>\n",
       "    </tr>\n",
       "    <tr>\n",
       "      <th>50%</th>\n",
       "      <td>1.00000</td>\n",
       "      <td>2018-07-15 12:00:00</td>\n",
       "      <td>2018.000000</td>\n",
       "      <td>7.000000</td>\n",
       "      <td>16.000000</td>\n",
       "      <td>2551.000000</td>\n",
       "      <td>8.000000</td>\n",
       "    </tr>\n",
       "    <tr>\n",
       "      <th>75%</th>\n",
       "      <td>1.00000</td>\n",
       "      <td>2020-01-04 06:00:00</td>\n",
       "      <td>2020.000000</td>\n",
       "      <td>10.000000</td>\n",
       "      <td>23.000000</td>\n",
       "      <td>4500.000000</td>\n",
       "      <td>11.000000</td>\n",
       "    </tr>\n",
       "    <tr>\n",
       "      <th>max</th>\n",
       "      <td>3.00000</td>\n",
       "      <td>2021-12-30 00:00:00</td>\n",
       "      <td>2021.000000</td>\n",
       "      <td>12.000000</td>\n",
       "      <td>31.000000</td>\n",
       "      <td>16080.000000</td>\n",
       "      <td>15.000000</td>\n",
       "    </tr>\n",
       "    <tr>\n",
       "      <th>std</th>\n",
       "      <td>0.17657</td>\n",
       "      <td>NaN</td>\n",
       "      <td>1.681261</td>\n",
       "      <td>3.577691</td>\n",
       "      <td>8.629170</td>\n",
       "      <td>3060.641793</td>\n",
       "      <td>4.379600</td>\n",
       "    </tr>\n",
       "  </tbody>\n",
       "</table>\n",
       "</div>"
      ],
      "text/plain": [
       "       N_VICTIMAS                          FECHA         AAAA          MM  \\\n",
       "count   688.00000                            688   688.000000  688.000000   \n",
       "mean      1.02907  2018-09-16 22:34:11.162790656  2018.194767    6.703488   \n",
       "min       1.00000            2016-01-01 00:00:00  2016.000000    1.000000   \n",
       "25%       1.00000            2017-04-03 00:00:00  2017.000000    4.000000   \n",
       "50%       1.00000            2018-07-15 12:00:00  2018.000000    7.000000   \n",
       "75%       1.00000            2020-01-04 06:00:00  2020.000000   10.000000   \n",
       "max       3.00000            2021-12-30 00:00:00  2021.000000   12.000000   \n",
       "std       0.17657                            NaN     1.681261    3.577691   \n",
       "\n",
       "               DD        Altura      COMUNA  \n",
       "count  688.000000    129.000000  688.000000  \n",
       "mean    15.931686   3336.635659    7.417151  \n",
       "min      1.000000     30.000000    0.000000  \n",
       "25%      9.000000   1359.000000    4.000000  \n",
       "50%     16.000000   2551.000000    8.000000  \n",
       "75%     23.000000   4500.000000   11.000000  \n",
       "max     31.000000  16080.000000   15.000000  \n",
       "std      8.629170   3060.641793    4.379600  "
      ]
     },
     "execution_count": 7,
     "metadata": {},
     "output_type": "execute_result"
    }
   ],
   "source": [
    "dfhomicidiosHechos.describe()"
   ]
  },
  {
   "cell_type": "markdown",
   "metadata": {},
   "source": [
    "#### 5. Elección de columnas del dataframe.\n",
    "- Descartamos a las columnas \"Altura\" y \"Cruce\".\n",
    "- Podemos notar que la columna \"Altura\" y \"Cruce\" tienen nulos (estas están relacionadas a las ubicaciones), pero estos se deben a los datos que no fueron informados, pero pueden ser reemplazados por otras columnas que tambien nos brindan la ubicación, por lo que no las incluiré."
   ]
  },
  {
   "cell_type": "code",
   "execution_count": 8,
   "metadata": {},
   "outputs": [
    {
     "data": {
      "text/html": [
       "<div>\n",
       "<style scoped>\n",
       "    .dataframe tbody tr th:only-of-type {\n",
       "        vertical-align: middle;\n",
       "    }\n",
       "\n",
       "    .dataframe tbody tr th {\n",
       "        vertical-align: top;\n",
       "    }\n",
       "\n",
       "    .dataframe thead th {\n",
       "        text-align: right;\n",
       "    }\n",
       "</style>\n",
       "<table border=\"1\" class=\"dataframe\">\n",
       "  <thead>\n",
       "    <tr style=\"text-align: right;\">\n",
       "      <th></th>\n",
       "      <th>ID</th>\n",
       "      <th>N_VICTIMAS</th>\n",
       "      <th>FECHA</th>\n",
       "      <th>AAAA</th>\n",
       "      <th>MM</th>\n",
       "      <th>DD</th>\n",
       "      <th>HORA</th>\n",
       "      <th>HH</th>\n",
       "      <th>LUGAR_DEL_HECHO</th>\n",
       "      <th>TIPO_DE_CALLE</th>\n",
       "      <th>Calle</th>\n",
       "      <th>Dirección Normalizada</th>\n",
       "      <th>COMUNA</th>\n",
       "      <th>XY (CABA)</th>\n",
       "      <th>pos x</th>\n",
       "      <th>pos y</th>\n",
       "      <th>PARTICIPANTES</th>\n",
       "      <th>VICTIMA</th>\n",
       "      <th>ACUSADO</th>\n",
       "    </tr>\n",
       "  </thead>\n",
       "  <tbody>\n",
       "    <tr>\n",
       "      <th>0</th>\n",
       "      <td>2016-0001</td>\n",
       "      <td>1</td>\n",
       "      <td>2016-01-01</td>\n",
       "      <td>2016</td>\n",
       "      <td>1</td>\n",
       "      <td>1</td>\n",
       "      <td>04:00:00</td>\n",
       "      <td>4</td>\n",
       "      <td>AV PIEDRA BUENA Y AV FERNANDEZ DE LA CRUZ</td>\n",
       "      <td>AVENIDA</td>\n",
       "      <td>PIEDRA BUENA AV.</td>\n",
       "      <td>PIEDRA BUENA AV. y FERNANDEZ DE LA CRUZ, F., G...</td>\n",
       "      <td>8</td>\n",
       "      <td>Point (98896.78238426 93532.43437792)</td>\n",
       "      <td>-58.47533969</td>\n",
       "      <td>-34.68757022</td>\n",
       "      <td>MOTO-AUTO</td>\n",
       "      <td>MOTO</td>\n",
       "      <td>AUTO</td>\n",
       "    </tr>\n",
       "    <tr>\n",
       "      <th>1</th>\n",
       "      <td>2016-0002</td>\n",
       "      <td>1</td>\n",
       "      <td>2016-01-02</td>\n",
       "      <td>2016</td>\n",
       "      <td>1</td>\n",
       "      <td>2</td>\n",
       "      <td>01:15:00</td>\n",
       "      <td>1</td>\n",
       "      <td>AV GRAL PAZ  Y AV DE LOS CORRALES</td>\n",
       "      <td>GRAL PAZ</td>\n",
       "      <td>PAZ, GRAL. AV.</td>\n",
       "      <td>PAZ, GRAL. AV. y DE LOS CORRALES AV.</td>\n",
       "      <td>9</td>\n",
       "      <td>Point (95832.05571093 95505.41641999)</td>\n",
       "      <td>-58.50877521</td>\n",
       "      <td>-34.66977709</td>\n",
       "      <td>AUTO-PASAJEROS</td>\n",
       "      <td>AUTO</td>\n",
       "      <td>PASAJEROS</td>\n",
       "    </tr>\n",
       "  </tbody>\n",
       "</table>\n",
       "</div>"
      ],
      "text/plain": [
       "          ID  N_VICTIMAS      FECHA  AAAA  MM  DD      HORA HH  \\\n",
       "0  2016-0001           1 2016-01-01  2016   1   1  04:00:00  4   \n",
       "1  2016-0002           1 2016-01-02  2016   1   2  01:15:00  1   \n",
       "\n",
       "                             LUGAR_DEL_HECHO TIPO_DE_CALLE             Calle  \\\n",
       "0  AV PIEDRA BUENA Y AV FERNANDEZ DE LA CRUZ       AVENIDA  PIEDRA BUENA AV.   \n",
       "1          AV GRAL PAZ  Y AV DE LOS CORRALES      GRAL PAZ    PAZ, GRAL. AV.   \n",
       "\n",
       "                               Dirección Normalizada  COMUNA  \\\n",
       "0  PIEDRA BUENA AV. y FERNANDEZ DE LA CRUZ, F., G...       8   \n",
       "1               PAZ, GRAL. AV. y DE LOS CORRALES AV.       9   \n",
       "\n",
       "                               XY (CABA)         pos x         pos y  \\\n",
       "0  Point (98896.78238426 93532.43437792)  -58.47533969  -34.68757022   \n",
       "1  Point (95832.05571093 95505.41641999)  -58.50877521  -34.66977709   \n",
       "\n",
       "    PARTICIPANTES VICTIMA    ACUSADO  \n",
       "0       MOTO-AUTO    MOTO       AUTO  \n",
       "1  AUTO-PASAJEROS    AUTO  PASAJEROS  "
      ]
     },
     "execution_count": 8,
     "metadata": {},
     "output_type": "execute_result"
    }
   ],
   "source": [
    "dfhomicidiosHechos =dfhomicidiosHechos.drop(columns=[\"Altura\", \"Cruce\"])\n",
    "dfhomicidiosHechos.head(2)"
   ]
  },
  {
   "cell_type": "markdown",
   "metadata": {},
   "source": [
    "#### 6. Tipos de datos del dataframe (df_info())."
   ]
  },
  {
   "cell_type": "code",
   "execution_count": 9,
   "metadata": {},
   "outputs": [
    {
     "name": "stdout",
     "output_type": "stream",
     "text": [
      "<class 'pandas.core.frame.DataFrame'>\n",
      "Index: 688 entries, 0 to 695\n",
      "Data columns (total 19 columns):\n",
      " #   Column                 Non-Null Count  Dtype         \n",
      "---  ------                 --------------  -----         \n",
      " 0   ID                     688 non-null    object        \n",
      " 1   N_VICTIMAS             688 non-null    int64         \n",
      " 2   FECHA                  688 non-null    datetime64[ns]\n",
      " 3   AAAA                   688 non-null    int64         \n",
      " 4   MM                     688 non-null    int64         \n",
      " 5   DD                     688 non-null    int64         \n",
      " 6   HORA                   688 non-null    object        \n",
      " 7   HH                     688 non-null    object        \n",
      " 8   LUGAR_DEL_HECHO        688 non-null    object        \n",
      " 9   TIPO_DE_CALLE          688 non-null    object        \n",
      " 10  Calle                  688 non-null    object        \n",
      " 11  Dirección Normalizada  688 non-null    object        \n",
      " 12  COMUNA                 688 non-null    int64         \n",
      " 13  XY (CABA)              688 non-null    object        \n",
      " 14  pos x                  688 non-null    object        \n",
      " 15  pos y                  688 non-null    object        \n",
      " 16  PARTICIPANTES          688 non-null    object        \n",
      " 17  VICTIMA                688 non-null    object        \n",
      " 18  ACUSADO                688 non-null    object        \n",
      "dtypes: datetime64[ns](1), int64(5), object(13)\n",
      "memory usage: 107.5+ KB\n"
     ]
    }
   ],
   "source": [
    "dfhomicidiosHechos.info()"
   ]
  },
  {
   "cell_type": "markdown",
   "metadata": {},
   "source": [
    "#### 7. Convertir a tipo de datos necesarios para mi análisis.\n",
    "- No es necesario."
   ]
  },
  {
   "cell_type": "markdown",
   "metadata": {},
   "source": [
    "#### 8. Guardar dataframe para el análisis exploratorio de datos."
   ]
  },
  {
   "cell_type": "code",
   "execution_count": 10,
   "metadata": {},
   "outputs": [
    {
     "name": "stdout",
     "output_type": "stream",
     "text": [
      "<class 'pandas.core.frame.DataFrame'>\n",
      "Index: 688 entries, 0 to 695\n",
      "Data columns (total 19 columns):\n",
      " #   Column                 Non-Null Count  Dtype         \n",
      "---  ------                 --------------  -----         \n",
      " 0   ID                     688 non-null    object        \n",
      " 1   N_VICTIMAS             688 non-null    int64         \n",
      " 2   FECHA                  688 non-null    datetime64[ns]\n",
      " 3   AAAA                   688 non-null    int64         \n",
      " 4   MM                     688 non-null    int64         \n",
      " 5   DD                     688 non-null    int64         \n",
      " 6   HORA                   688 non-null    object        \n",
      " 7   HH                     688 non-null    object        \n",
      " 8   LUGAR_DEL_HECHO        688 non-null    object        \n",
      " 9   TIPO_DE_CALLE          688 non-null    object        \n",
      " 10  Calle                  688 non-null    object        \n",
      " 11  Dirección Normalizada  688 non-null    object        \n",
      " 12  COMUNA                 688 non-null    int64         \n",
      " 13  XY (CABA)              688 non-null    object        \n",
      " 14  pos x                  688 non-null    object        \n",
      " 15  pos y                  688 non-null    object        \n",
      " 16  PARTICIPANTES          688 non-null    object        \n",
      " 17  VICTIMA                688 non-null    object        \n",
      " 18  ACUSADO                688 non-null    object        \n",
      "dtypes: datetime64[ns](1), int64(5), object(13)\n",
      "memory usage: 107.5+ KB\n"
     ]
    }
   ],
   "source": [
    "dfhomicidiosHechos.to_csv('DatasetsEDA/dfhomicidiosHechos.csv', index=False)\n",
    "dfhomicidiosHechos.info()"
   ]
  },
  {
   "cell_type": "code",
   "execution_count": 11,
   "metadata": {},
   "outputs": [
    {
     "name": "stdout",
     "output_type": "stream",
     "text": [
      "<class 'pandas.core.frame.DataFrame'>\n",
      "Index: 688 entries, 0 to 695\n",
      "Data columns (total 19 columns):\n",
      " #   Column                 Non-Null Count  Dtype         \n",
      "---  ------                 --------------  -----         \n",
      " 0   ID                     688 non-null    object        \n",
      " 1   N_VICTIMAS             688 non-null    int64         \n",
      " 2   FECHA                  688 non-null    datetime64[ns]\n",
      " 3   AAAA                   688 non-null    int64         \n",
      " 4   MM                     688 non-null    int64         \n",
      " 5   DD                     688 non-null    int64         \n",
      " 6   HORA                   688 non-null    object        \n",
      " 7   HH                     688 non-null    object        \n",
      " 8   LUGAR_DEL_HECHO        688 non-null    object        \n",
      " 9   TIPO_DE_CALLE          688 non-null    object        \n",
      " 10  Calle                  688 non-null    object        \n",
      " 11  Dirección Normalizada  688 non-null    object        \n",
      " 12  COMUNA                 688 non-null    int64         \n",
      " 13  XY (CABA)              688 non-null    object        \n",
      " 14  pos x                  688 non-null    object        \n",
      " 15  pos y                  688 non-null    object        \n",
      " 16  PARTICIPANTES          688 non-null    object        \n",
      " 17  VICTIMA                688 non-null    object        \n",
      " 18  ACUSADO                688 non-null    object        \n",
      "dtypes: datetime64[ns](1), int64(5), object(13)\n",
      "memory usage: 107.5+ KB\n"
     ]
    }
   ],
   "source": [
    "dfhomicidiosHechos.to_excel('DatasetsEDA/dfhomicidiosHechos.xlsx', index=False)\n",
    "dfhomicidiosHechos.info()"
   ]
  },
  {
   "cell_type": "markdown",
   "metadata": {},
   "source": [
    "#### 1. Carga de mi dataframe homicidios.victimas."
   ]
  },
  {
   "cell_type": "code",
   "execution_count": 12,
   "metadata": {},
   "outputs": [
    {
     "data": {
      "text/html": [
       "<div>\n",
       "<style scoped>\n",
       "    .dataframe tbody tr th:only-of-type {\n",
       "        vertical-align: middle;\n",
       "    }\n",
       "\n",
       "    .dataframe tbody tr th {\n",
       "        vertical-align: top;\n",
       "    }\n",
       "\n",
       "    .dataframe thead th {\n",
       "        text-align: right;\n",
       "    }\n",
       "</style>\n",
       "<table border=\"1\" class=\"dataframe\">\n",
       "  <thead>\n",
       "    <tr style=\"text-align: right;\">\n",
       "      <th></th>\n",
       "      <th>ID_hecho</th>\n",
       "      <th>FECHA</th>\n",
       "      <th>AAAA</th>\n",
       "      <th>MM</th>\n",
       "      <th>DD</th>\n",
       "      <th>ROL</th>\n",
       "      <th>VICTIMA</th>\n",
       "      <th>SEXO</th>\n",
       "      <th>EDAD</th>\n",
       "      <th>FECHA_FALLECIMIENTO</th>\n",
       "    </tr>\n",
       "  </thead>\n",
       "  <tbody>\n",
       "    <tr>\n",
       "      <th>0</th>\n",
       "      <td>2016-0001</td>\n",
       "      <td>2016-01-01</td>\n",
       "      <td>2016</td>\n",
       "      <td>1</td>\n",
       "      <td>1</td>\n",
       "      <td>CONDUCTOR</td>\n",
       "      <td>MOTO</td>\n",
       "      <td>MASCULINO</td>\n",
       "      <td>19</td>\n",
       "      <td>2016-01-01 00:00:00</td>\n",
       "    </tr>\n",
       "    <tr>\n",
       "      <th>1</th>\n",
       "      <td>2016-0002</td>\n",
       "      <td>2016-01-02</td>\n",
       "      <td>2016</td>\n",
       "      <td>1</td>\n",
       "      <td>2</td>\n",
       "      <td>CONDUCTOR</td>\n",
       "      <td>AUTO</td>\n",
       "      <td>MASCULINO</td>\n",
       "      <td>70</td>\n",
       "      <td>2016-01-02 00:00:00</td>\n",
       "    </tr>\n",
       "  </tbody>\n",
       "</table>\n",
       "</div>"
      ],
      "text/plain": [
       "    ID_hecho      FECHA  AAAA  MM  DD        ROL VICTIMA       SEXO EDAD  \\\n",
       "0  2016-0001 2016-01-01  2016   1   1  CONDUCTOR    MOTO  MASCULINO   19   \n",
       "1  2016-0002 2016-01-02  2016   1   2  CONDUCTOR    AUTO  MASCULINO   70   \n",
       "\n",
       "   FECHA_FALLECIMIENTO  \n",
       "0  2016-01-01 00:00:00  \n",
       "1  2016-01-02 00:00:00  "
      ]
     },
     "execution_count": 12,
     "metadata": {},
     "output_type": "execute_result"
    }
   ],
   "source": [
    "dfhomicidiosVictimas= pd.read_excel(\"Datasets/homicidios.victimas.xlsx\")\n",
    "dfhomicidiosVictimas.head(2)"
   ]
  },
  {
   "cell_type": "markdown",
   "metadata": {},
   "source": [
    "#### 2. Verificación de existencia de nulos y su tratamiento (borrar nulos).\n",
    "- No hay columnas con nulos."
   ]
  },
  {
   "cell_type": "code",
   "execution_count": 13,
   "metadata": {},
   "outputs": [
    {
     "data": {
      "text/plain": [
       "ID_hecho               0\n",
       "FECHA                  0\n",
       "AAAA                   0\n",
       "MM                     0\n",
       "DD                     0\n",
       "ROL                    0\n",
       "VICTIMA                0\n",
       "SEXO                   0\n",
       "EDAD                   0\n",
       "FECHA_FALLECIMIENTO    0\n",
       "dtype: int64"
      ]
     },
     "execution_count": 13,
     "metadata": {},
     "output_type": "execute_result"
    }
   ],
   "source": [
    "dfhomicidiosVictimas.isnull().sum()"
   ]
  },
  {
   "cell_type": "markdown",
   "metadata": {},
   "source": [
    "#### 3. Verificación de existencia de duplicados (borrar duplicados)."
   ]
  },
  {
   "cell_type": "code",
   "execution_count": 14,
   "metadata": {},
   "outputs": [],
   "source": [
    "dfhomicidiosVictimas = dfhomicidiosVictimas.drop_duplicates()"
   ]
  },
  {
   "cell_type": "markdown",
   "metadata": {},
   "source": [
    "#### 4. Análisis estadísticos del dataframe (df.describe).\n",
    "- Vemos que el minimo valor del año AAAA es 2016 y el máximo es 2021, siendo su promedio el 2018.2 al inicio del año. Lo que quiere decir que la primera mitad de los homicidios de las victimas se produjo en los 2 primeros años del periodo total de 6 años. Por lo que se puede decir que luego del 2018 se produjo un descenso de los accidentes."
   ]
  },
  {
   "cell_type": "code",
   "execution_count": 15,
   "metadata": {},
   "outputs": [
    {
     "data": {
      "text/html": [
       "<div>\n",
       "<style scoped>\n",
       "    .dataframe tbody tr th:only-of-type {\n",
       "        vertical-align: middle;\n",
       "    }\n",
       "\n",
       "    .dataframe tbody tr th {\n",
       "        vertical-align: top;\n",
       "    }\n",
       "\n",
       "    .dataframe thead th {\n",
       "        text-align: right;\n",
       "    }\n",
       "</style>\n",
       "<table border=\"1\" class=\"dataframe\">\n",
       "  <thead>\n",
       "    <tr style=\"text-align: right;\">\n",
       "      <th></th>\n",
       "      <th>FECHA</th>\n",
       "      <th>AAAA</th>\n",
       "      <th>MM</th>\n",
       "      <th>DD</th>\n",
       "    </tr>\n",
       "  </thead>\n",
       "  <tbody>\n",
       "    <tr>\n",
       "      <th>count</th>\n",
       "      <td>717</td>\n",
       "      <td>717.000000</td>\n",
       "      <td>717.000000</td>\n",
       "      <td>717.000000</td>\n",
       "    </tr>\n",
       "    <tr>\n",
       "      <th>mean</th>\n",
       "      <td>2018-09-09 01:36:24.100418304</td>\n",
       "      <td>2018.174338</td>\n",
       "      <td>6.688982</td>\n",
       "      <td>15.960948</td>\n",
       "    </tr>\n",
       "    <tr>\n",
       "      <th>min</th>\n",
       "      <td>2016-01-01 00:00:00</td>\n",
       "      <td>2016.000000</td>\n",
       "      <td>1.000000</td>\n",
       "      <td>1.000000</td>\n",
       "    </tr>\n",
       "    <tr>\n",
       "      <th>25%</th>\n",
       "      <td>2017-04-01 00:00:00</td>\n",
       "      <td>2017.000000</td>\n",
       "      <td>4.000000</td>\n",
       "      <td>9.000000</td>\n",
       "    </tr>\n",
       "    <tr>\n",
       "      <th>50%</th>\n",
       "      <td>2018-07-07 00:00:00</td>\n",
       "      <td>2018.000000</td>\n",
       "      <td>7.000000</td>\n",
       "      <td>16.000000</td>\n",
       "    </tr>\n",
       "    <tr>\n",
       "      <th>75%</th>\n",
       "      <td>2019-12-18 00:00:00</td>\n",
       "      <td>2019.000000</td>\n",
       "      <td>10.000000</td>\n",
       "      <td>23.000000</td>\n",
       "    </tr>\n",
       "    <tr>\n",
       "      <th>max</th>\n",
       "      <td>2021-12-30 00:00:00</td>\n",
       "      <td>2021.000000</td>\n",
       "      <td>12.000000</td>\n",
       "      <td>31.000000</td>\n",
       "    </tr>\n",
       "    <tr>\n",
       "      <th>std</th>\n",
       "      <td>NaN</td>\n",
       "      <td>1.672655</td>\n",
       "      <td>3.575140</td>\n",
       "      <td>8.683358</td>\n",
       "    </tr>\n",
       "  </tbody>\n",
       "</table>\n",
       "</div>"
      ],
      "text/plain": [
       "                               FECHA         AAAA          MM          DD\n",
       "count                            717   717.000000  717.000000  717.000000\n",
       "mean   2018-09-09 01:36:24.100418304  2018.174338    6.688982   15.960948\n",
       "min              2016-01-01 00:00:00  2016.000000    1.000000    1.000000\n",
       "25%              2017-04-01 00:00:00  2017.000000    4.000000    9.000000\n",
       "50%              2018-07-07 00:00:00  2018.000000    7.000000   16.000000\n",
       "75%              2019-12-18 00:00:00  2019.000000   10.000000   23.000000\n",
       "max              2021-12-30 00:00:00  2021.000000   12.000000   31.000000\n",
       "std                              NaN     1.672655    3.575140    8.683358"
      ]
     },
     "execution_count": 15,
     "metadata": {},
     "output_type": "execute_result"
    }
   ],
   "source": [
    "dfhomicidiosVictimas.describe()"
   ]
  },
  {
   "cell_type": "markdown",
   "metadata": {},
   "source": [
    "#### 5. Elección de columnas del dataframe.\n",
    "- Todas las columnas son necesarias, así que no borraré ninguna.\n"
   ]
  },
  {
   "cell_type": "markdown",
   "metadata": {},
   "source": [
    "#### 6. Tipos de datos del dataframe (df_info())."
   ]
  },
  {
   "cell_type": "code",
   "execution_count": 16,
   "metadata": {},
   "outputs": [
    {
     "name": "stdout",
     "output_type": "stream",
     "text": [
      "<class 'pandas.core.frame.DataFrame'>\n",
      "RangeIndex: 717 entries, 0 to 716\n",
      "Data columns (total 10 columns):\n",
      " #   Column               Non-Null Count  Dtype         \n",
      "---  ------               --------------  -----         \n",
      " 0   ID_hecho             717 non-null    object        \n",
      " 1   FECHA                717 non-null    datetime64[ns]\n",
      " 2   AAAA                 717 non-null    int64         \n",
      " 3   MM                   717 non-null    int64         \n",
      " 4   DD                   717 non-null    int64         \n",
      " 5   ROL                  717 non-null    object        \n",
      " 6   VICTIMA              717 non-null    object        \n",
      " 7   SEXO                 717 non-null    object        \n",
      " 8   EDAD                 717 non-null    object        \n",
      " 9   FECHA_FALLECIMIENTO  717 non-null    object        \n",
      "dtypes: datetime64[ns](1), int64(3), object(6)\n",
      "memory usage: 56.1+ KB\n"
     ]
    }
   ],
   "source": [
    "dfhomicidiosVictimas.info()"
   ]
  },
  {
   "cell_type": "markdown",
   "metadata": {},
   "source": [
    "#### 7. Convertir a tipo de datos necesarios para mi análisis.\n",
    " -Pasar \"FECHA_FALLECIMIENTO\" a formato datetime64[ns]: las filas faltantes serán completadas con el promedio de las fechas de mi dataset.\n",
    " -Reemplazo las filas de \"EDAD\" que contienen SD por la edad promedio de la columna y redondeo las edades para dejarlas en nnúmeros enteros."
   ]
  },
  {
   "cell_type": "markdown",
   "metadata": {},
   "source": [
    "- Cambiar formato Fecha"
   ]
  },
  {
   "cell_type": "code",
   "execution_count": 17,
   "metadata": {},
   "outputs": [],
   "source": [
    "# Convertir fechas y asignar NaT a entradas no válidas\n",
    "dfhomicidiosVictimas['FECHA_FALLECIMIENTO'] = pd.to_datetime(dfhomicidiosVictimas['FECHA_FALLECIMIENTO'], errors='coerce')\n",
    "\n",
    "# Calcular la fecha promedio (excluyendo NaT)\n",
    "fecha_promedio = dfhomicidiosVictimas['FECHA_FALLECIMIENTO'].mean()\n",
    "\n",
    "# Llenar las entradas NaT con la fecha promedio\n",
    "dfhomicidiosVictimas['FECHA_FALLECIMIENTO'] = dfhomicidiosVictimas['FECHA_FALLECIMIENTO'].fillna(fecha_promedio)"
   ]
  },
  {
   "cell_type": "markdown",
   "metadata": {},
   "source": [
    "- Cambios a la columna \"EDAD\""
   ]
  },
  {
   "cell_type": "code",
   "execution_count": 18,
   "metadata": {},
   "outputs": [
    {
     "name": "stdout",
     "output_type": "stream",
     "text": [
      "<class 'pandas.core.frame.DataFrame'>\n",
      "RangeIndex: 717 entries, 0 to 716\n",
      "Data columns (total 10 columns):\n",
      " #   Column               Non-Null Count  Dtype         \n",
      "---  ------               --------------  -----         \n",
      " 0   ID_hecho             717 non-null    object        \n",
      " 1   FECHA                717 non-null    datetime64[ns]\n",
      " 2   AAAA                 717 non-null    int64         \n",
      " 3   MM                   717 non-null    int64         \n",
      " 4   DD                   717 non-null    int64         \n",
      " 5   ROL                  717 non-null    object        \n",
      " 6   VICTIMA              717 non-null    object        \n",
      " 7   SEXO                 717 non-null    object        \n",
      " 8   EDAD                 717 non-null    int32         \n",
      " 9   FECHA_FALLECIMIENTO  717 non-null    datetime64[ns]\n",
      "dtypes: datetime64[ns](2), int32(1), int64(3), object(4)\n",
      "memory usage: 53.3+ KB\n"
     ]
    }
   ],
   "source": [
    "# Supongamos que 'SD' en la columna 'EDAD' se debe tratar como NaN\n",
    "dfhomicidiosVictimas['EDAD'] = pd.to_numeric(dfhomicidiosVictimas['EDAD'], errors='coerce')\n",
    "\n",
    "# Calcular la edad promedio (excluyendo NaN)\n",
    "edad_promedio = dfhomicidiosVictimas['EDAD'].mean()\n",
    "\n",
    "# Reemplazar los valores 'SD' por la edad promedio y redondear al entero más cercano\n",
    "dfhomicidiosVictimas['EDAD'] = dfhomicidiosVictimas['EDAD'].replace('SD', edad_promedio).round()\n",
    "\n",
    "# Reemplazar NaN con el valor medio redondeado y convertir a enteros\n",
    "dfhomicidiosVictimas['EDAD'] = dfhomicidiosVictimas['EDAD'].fillna(edad_promedio).astype(int)\n",
    "\n",
    "\n",
    "\n",
    "dfhomicidiosVictimas.info()"
   ]
  },
  {
   "cell_type": "markdown",
   "metadata": {},
   "source": [
    "- Crear una columna que sea los dias que fallecieron las victimas luego del accidente."
   ]
  },
  {
   "cell_type": "code",
   "execution_count": 19,
   "metadata": {},
   "outputs": [
    {
     "name": "stdout",
     "output_type": "stream",
     "text": [
      "<class 'pandas.core.frame.DataFrame'>\n",
      "RangeIndex: 717 entries, 0 to 716\n",
      "Data columns (total 11 columns):\n",
      " #   Column                    Non-Null Count  Dtype         \n",
      "---  ------                    --------------  -----         \n",
      " 0   ID_hecho                  717 non-null    object        \n",
      " 1   FECHA                     717 non-null    datetime64[ns]\n",
      " 2   AAAA                      717 non-null    int64         \n",
      " 3   MM                        717 non-null    int64         \n",
      " 4   DD                        717 non-null    int64         \n",
      " 5   ROL                       717 non-null    object        \n",
      " 6   VICTIMA                   717 non-null    object        \n",
      " 7   SEXO                      717 non-null    object        \n",
      " 8   EDAD                      717 non-null    int32         \n",
      " 9   FECHA_FALLECIMIENTO       717 non-null    datetime64[ns]\n",
      " 10  Dias_hasta_fallecimiento  717 non-null    int64         \n",
      "dtypes: datetime64[ns](2), int32(1), int64(4), object(4)\n",
      "memory usage: 58.9+ KB\n"
     ]
    }
   ],
   "source": [
    "# Convertir las columnas 'FECHA' y 'FECHA_FALLECIMIENTO' al tipo de dato datetime64[ns]\n",
    "dfhomicidiosVictimas['FECHA'] = pd.to_datetime(dfhomicidiosVictimas['FECHA'], errors='coerce')\n",
    "dfhomicidiosVictimas['FECHA_FALLECIMIENTO'] = pd.to_datetime(dfhomicidiosVictimas['FECHA_FALLECIMIENTO'], errors='coerce')\n",
    "\n",
    "# Crear la nueva columna con la diferencia en días\n",
    "dfhomicidiosVictimas['Dias_hasta_fallecimiento'] = (dfhomicidiosVictimas['FECHA_FALLECIMIENTO'] - dfhomicidiosVictimas['FECHA']).dt.days\n",
    "\n",
    "# Reemplazar NaT en 'Dias_hasta_fallecimiento' por 0\n",
    "dfhomicidiosVictimas['Dias_hasta_fallecimiento'] = dfhomicidiosVictimas['Dias_hasta_fallecimiento'].fillna(0)\n",
    "\n",
    "dfhomicidiosVictimas.info()"
   ]
  },
  {
   "cell_type": "markdown",
   "metadata": {},
   "source": [
    "#### 8. Guardar dataframe para el análisis exploratorio de datos."
   ]
  },
  {
   "cell_type": "code",
   "execution_count": 23,
   "metadata": {},
   "outputs": [
    {
     "name": "stdout",
     "output_type": "stream",
     "text": [
      "<class 'pandas.core.frame.DataFrame'>\n",
      "RangeIndex: 717 entries, 0 to 716\n",
      "Data columns (total 11 columns):\n",
      " #   Column                    Non-Null Count  Dtype         \n",
      "---  ------                    --------------  -----         \n",
      " 0   ID_hecho                  717 non-null    object        \n",
      " 1   FECHA                     717 non-null    datetime64[ns]\n",
      " 2   AAAA                      717 non-null    int64         \n",
      " 3   MM                        717 non-null    int64         \n",
      " 4   DD                        717 non-null    int64         \n",
      " 5   ROL                       717 non-null    object        \n",
      " 6   VICTIMA                   717 non-null    object        \n",
      " 7   SEXO                      717 non-null    object        \n",
      " 8   EDAD                      717 non-null    int32         \n",
      " 9   FECHA_FALLECIMIENTO       717 non-null    datetime64[ns]\n",
      " 10  Dias_hasta_fallecimiento  717 non-null    int64         \n",
      "dtypes: datetime64[ns](2), int32(1), int64(4), object(4)\n",
      "memory usage: 58.9+ KB\n"
     ]
    }
   ],
   "source": [
    "dfhomicidiosVictimas.to_csv('DatasetsEDA/dfhomicidiosVictimas.csv', index=False)\n",
    "dfhomicidiosVictimas.info()"
   ]
  },
  {
   "cell_type": "code",
   "execution_count": 22,
   "metadata": {},
   "outputs": [
    {
     "name": "stdout",
     "output_type": "stream",
     "text": [
      "Dias_hasta_fallecimiento\n",
      "0      498\n",
      "1       54\n",
      "2       17\n",
      "4       13\n",
      "3       13\n",
      "      ... \n",
      "826      1\n",
      "835      1\n",
      "838      1\n",
      "847      1\n",
      "21       1\n",
      "Name: count, Length: 89, dtype: int64\n",
      "Número total de valores únicos: 89\n"
     ]
    }
   ],
   "source": [
    "# Supongamos que tienes un DataFrame llamado dfhomicidiosVictimas\n",
    "# y deseas ver los valores únicos y el número total de ocurrencias en la columna 'SEXO'\n",
    "valores_unicos_sexo = dfhomicidiosVictimas['Dias_hasta_fallecimiento'].value_counts()\n",
    "\n",
    "# Imprimir los valores únicos y el número total de ocurrencias\n",
    "print(valores_unicos_sexo)\n",
    "\n",
    "# También puedes obtener el número total de valores únicos\n",
    "numero_total_valores_unicos = len(valores_unicos_sexo)\n",
    "print(\"Número total de valores únicos:\", numero_total_valores_unicos)"
   ]
  },
  {
   "cell_type": "markdown",
   "metadata": {},
   "source": [
    "#### 1. Carga de mi dataframe lesiones.hechos"
   ]
  },
  {
   "cell_type": "code",
   "execution_count": 44,
   "metadata": {},
   "outputs": [
    {
     "data": {
      "text/html": [
       "<div>\n",
       "<style scoped>\n",
       "    .dataframe tbody tr th:only-of-type {\n",
       "        vertical-align: middle;\n",
       "    }\n",
       "\n",
       "    .dataframe tbody tr th {\n",
       "        vertical-align: top;\n",
       "    }\n",
       "\n",
       "    .dataframe thead th {\n",
       "        text-align: right;\n",
       "    }\n",
       "</style>\n",
       "<table border=\"1\" class=\"dataframe\">\n",
       "  <thead>\n",
       "    <tr style=\"text-align: right;\">\n",
       "      <th></th>\n",
       "      <th>id</th>\n",
       "      <th>n_victimas</th>\n",
       "      <th>aaaa</th>\n",
       "      <th>mm</th>\n",
       "      <th>dd</th>\n",
       "      <th>fecha</th>\n",
       "      <th>hora</th>\n",
       "      <th>franja_hora</th>\n",
       "      <th>direccion_normalizada</th>\n",
       "      <th>comuna</th>\n",
       "      <th>...</th>\n",
       "      <th>latutid</th>\n",
       "      <th>victima</th>\n",
       "      <th>acusado</th>\n",
       "      <th>participantes</th>\n",
       "      <th>moto</th>\n",
       "      <th>auto</th>\n",
       "      <th>transporte_publico</th>\n",
       "      <th>camion</th>\n",
       "      <th>ciclista</th>\n",
       "      <th>gravedad</th>\n",
       "    </tr>\n",
       "  </thead>\n",
       "  <tbody>\n",
       "    <tr>\n",
       "      <th>0</th>\n",
       "      <td>LC-2019-0000179</td>\n",
       "      <td>1</td>\n",
       "      <td>2019</td>\n",
       "      <td>1</td>\n",
       "      <td>1</td>\n",
       "      <td>2019-01-01 00:00:00</td>\n",
       "      <td>09:00:00</td>\n",
       "      <td>9</td>\n",
       "      <td>SD</td>\n",
       "      <td>14</td>\n",
       "      <td>...</td>\n",
       "      <td>-34.559658</td>\n",
       "      <td>CICLISTA</td>\n",
       "      <td>SD</td>\n",
       "      <td>CICLISTA-SD</td>\n",
       "      <td>SD</td>\n",
       "      <td>SD</td>\n",
       "      <td>SD</td>\n",
       "      <td>SD</td>\n",
       "      <td>x</td>\n",
       "      <td>SD</td>\n",
       "    </tr>\n",
       "    <tr>\n",
       "      <th>1</th>\n",
       "      <td>LC-2019-0000053</td>\n",
       "      <td>1</td>\n",
       "      <td>2019</td>\n",
       "      <td>1</td>\n",
       "      <td>1</td>\n",
       "      <td>2019-01-01 00:00:00</td>\n",
       "      <td>01:55:00</td>\n",
       "      <td>1</td>\n",
       "      <td>SD</td>\n",
       "      <td>8</td>\n",
       "      <td>...</td>\n",
       "      <td>-34.669125</td>\n",
       "      <td>AUTO</td>\n",
       "      <td>SD</td>\n",
       "      <td>AUTO-SD</td>\n",
       "      <td>SD</td>\n",
       "      <td>x</td>\n",
       "      <td>SD</td>\n",
       "      <td>SD</td>\n",
       "      <td>SD</td>\n",
       "      <td>SD</td>\n",
       "    </tr>\n",
       "  </tbody>\n",
       "</table>\n",
       "<p>2 rows × 27 columns</p>\n",
       "</div>"
      ],
      "text/plain": [
       "                id  n_victimas  aaaa  mm  dd                fecha      hora  \\\n",
       "0  LC-2019-0000179           1  2019   1   1  2019-01-01 00:00:00  09:00:00   \n",
       "1  LC-2019-0000053           1  2019   1   1  2019-01-01 00:00:00  01:55:00   \n",
       "\n",
       "  franja_hora direccion_normalizada comuna  ...     latutid   victima acusado  \\\n",
       "0           9                    SD     14  ...  -34.559658  CICLISTA      SD   \n",
       "1           1                    SD      8  ...  -34.669125      AUTO      SD   \n",
       "\n",
       "   participantes moto auto transporte_publico camion ciclista gravedad  \n",
       "0    CICLISTA-SD   SD   SD                 SD     SD        x       SD  \n",
       "1        AUTO-SD   SD    x                 SD     SD       SD       SD  \n",
       "\n",
       "[2 rows x 27 columns]"
      ]
     },
     "execution_count": 44,
     "metadata": {},
     "output_type": "execute_result"
    }
   ],
   "source": [
    "dflesionesHechos= pd.read_excel(\"Datasets/lesiones.hechos.xlsx\")\n",
    "dflesionesHechos.head(2)"
   ]
  },
  {
   "cell_type": "markdown",
   "metadata": {},
   "source": [
    "#### 2. Verificación de existencia de nulos y su tratamiento (borrar nulos).\n",
    "- Borraremos las columnas \"calle\", \"altura\" y \"cruce\" ya que tienen muchos nulos y ya tenemos otras columnas que nos dan ubicaciones.\n",
    "- Borramos los valores nulos de las columnas \"franja_hora\", \"direccion_normalizada\", \"comuna\", \"geocodificacion_CABA\", \"longitud\", \"latutid\", \"moto\", \"auto\", \"transporte_publico\", \"camion\" y \"ciclista\". \n",
    "- Al borrar los nulos pasamos de  23785 filas a 23518 filas lo que significan el 1.12% de nuestros datos, lo que no es una gran pérdida de datos y no afectará nuestro análisis.\n",
    "- Cuenta (1-(23518/23785))*100=1.1225562329199024."
   ]
  },
  {
   "cell_type": "code",
   "execution_count": 45,
   "metadata": {},
   "outputs": [
    {
     "data": {
      "text/plain": [
       "id                           0\n",
       "n_victimas                   0\n",
       "aaaa                         0\n",
       "mm                           0\n",
       "dd                           0\n",
       "fecha                        0\n",
       "hora                         0\n",
       "franja_hora                  5\n",
       "direccion_normalizada       53\n",
       "comuna                     169\n",
       "tipo_calle                   0\n",
       "otra_direccion               0\n",
       "calle                    10918\n",
       "altura                   11014\n",
       "cruce                    14378\n",
       "geocodificacion_CABA        39\n",
       "longitud                   262\n",
       "latutid                    262\n",
       "victima                      0\n",
       "acusado                      0\n",
       "participantes                0\n",
       "moto                        93\n",
       "auto                        93\n",
       "transporte_publico          93\n",
       "camion                      93\n",
       "ciclista                    93\n",
       "gravedad                     0\n",
       "dtype: int64"
      ]
     },
     "execution_count": 45,
     "metadata": {},
     "output_type": "execute_result"
    }
   ],
   "source": [
    "dflesionesHechos.isnull().sum()"
   ]
  },
  {
   "cell_type": "code",
   "execution_count": 46,
   "metadata": {},
   "outputs": [
    {
     "data": {
      "text/plain": [
       "(23785, 27)"
      ]
     },
     "execution_count": 46,
     "metadata": {},
     "output_type": "execute_result"
    }
   ],
   "source": [
    "dflesionesHechos.shape"
   ]
  },
  {
   "cell_type": "code",
   "execution_count": 47,
   "metadata": {},
   "outputs": [
    {
     "data": {
      "text/plain": [
       "(23518, 27)"
      ]
     },
     "execution_count": 47,
     "metadata": {},
     "output_type": "execute_result"
    }
   ],
   "source": [
    "dflesionesHechos=dflesionesHechos.dropna(subset=[\"franja_hora\",\"direccion_normalizada\",\"comuna\",\"geocodificacion_CABA\",\"longitud\",\"latutid\",\"moto\",\"auto\",\"transporte_publico\",\"camion\",\"ciclista\"])\n",
    "dflesionesHechos.shape"
   ]
  },
  {
   "cell_type": "code",
   "execution_count": 48,
   "metadata": {},
   "outputs": [
    {
     "data": {
      "text/plain": [
       "id                           0\n",
       "n_victimas                   0\n",
       "aaaa                         0\n",
       "mm                           0\n",
       "dd                           0\n",
       "fecha                        0\n",
       "hora                         0\n",
       "franja_hora                  0\n",
       "direccion_normalizada        0\n",
       "comuna                       0\n",
       "tipo_calle                   0\n",
       "otra_direccion               0\n",
       "calle                    10809\n",
       "altura                   10785\n",
       "cruce                    14231\n",
       "geocodificacion_CABA         0\n",
       "longitud                     0\n",
       "latutid                      0\n",
       "victima                      0\n",
       "acusado                      0\n",
       "participantes                0\n",
       "moto                         0\n",
       "auto                         0\n",
       "transporte_publico           0\n",
       "camion                       0\n",
       "ciclista                     0\n",
       "gravedad                     0\n",
       "dtype: int64"
      ]
     },
     "execution_count": 48,
     "metadata": {},
     "output_type": "execute_result"
    }
   ],
   "source": [
    "dflesionesHechos.isnull().sum()"
   ]
  },
  {
   "cell_type": "markdown",
   "metadata": {},
   "source": [
    "#### 5. Elección de columnas del dataframe.\n",
    "- Descartamos las columnas \"calle\", \"altura\" y \"cruce\" ya que tienen muchos nulos y ya tenemos otras columnas que nos dan ubicaciones."
   ]
  },
  {
   "cell_type": "code",
   "execution_count": 51,
   "metadata": {},
   "outputs": [
    {
     "data": {
      "text/html": [
       "<div>\n",
       "<style scoped>\n",
       "    .dataframe tbody tr th:only-of-type {\n",
       "        vertical-align: middle;\n",
       "    }\n",
       "\n",
       "    .dataframe tbody tr th {\n",
       "        vertical-align: top;\n",
       "    }\n",
       "\n",
       "    .dataframe thead th {\n",
       "        text-align: right;\n",
       "    }\n",
       "</style>\n",
       "<table border=\"1\" class=\"dataframe\">\n",
       "  <thead>\n",
       "    <tr style=\"text-align: right;\">\n",
       "      <th></th>\n",
       "      <th>id</th>\n",
       "      <th>n_victimas</th>\n",
       "      <th>aaaa</th>\n",
       "      <th>mm</th>\n",
       "      <th>dd</th>\n",
       "      <th>fecha</th>\n",
       "      <th>hora</th>\n",
       "      <th>franja_hora</th>\n",
       "      <th>direccion_normalizada</th>\n",
       "      <th>comuna</th>\n",
       "      <th>...</th>\n",
       "      <th>latutid</th>\n",
       "      <th>victima</th>\n",
       "      <th>acusado</th>\n",
       "      <th>participantes</th>\n",
       "      <th>moto</th>\n",
       "      <th>auto</th>\n",
       "      <th>transporte_publico</th>\n",
       "      <th>camion</th>\n",
       "      <th>ciclista</th>\n",
       "      <th>gravedad</th>\n",
       "    </tr>\n",
       "  </thead>\n",
       "  <tbody>\n",
       "    <tr>\n",
       "      <th>0</th>\n",
       "      <td>LC-2019-0000179</td>\n",
       "      <td>1</td>\n",
       "      <td>2019</td>\n",
       "      <td>1</td>\n",
       "      <td>1</td>\n",
       "      <td>2019-01-01 00:00:00</td>\n",
       "      <td>09:00:00</td>\n",
       "      <td>9</td>\n",
       "      <td>SD</td>\n",
       "      <td>14</td>\n",
       "      <td>...</td>\n",
       "      <td>-34.559658</td>\n",
       "      <td>CICLISTA</td>\n",
       "      <td>SD</td>\n",
       "      <td>CICLISTA-SD</td>\n",
       "      <td>SD</td>\n",
       "      <td>SD</td>\n",
       "      <td>SD</td>\n",
       "      <td>SD</td>\n",
       "      <td>x</td>\n",
       "      <td>SD</td>\n",
       "    </tr>\n",
       "    <tr>\n",
       "      <th>1</th>\n",
       "      <td>LC-2019-0000053</td>\n",
       "      <td>1</td>\n",
       "      <td>2019</td>\n",
       "      <td>1</td>\n",
       "      <td>1</td>\n",
       "      <td>2019-01-01 00:00:00</td>\n",
       "      <td>01:55:00</td>\n",
       "      <td>1</td>\n",
       "      <td>SD</td>\n",
       "      <td>8</td>\n",
       "      <td>...</td>\n",
       "      <td>-34.669125</td>\n",
       "      <td>AUTO</td>\n",
       "      <td>SD</td>\n",
       "      <td>AUTO-SD</td>\n",
       "      <td>SD</td>\n",
       "      <td>x</td>\n",
       "      <td>SD</td>\n",
       "      <td>SD</td>\n",
       "      <td>SD</td>\n",
       "      <td>SD</td>\n",
       "    </tr>\n",
       "  </tbody>\n",
       "</table>\n",
       "<p>2 rows × 24 columns</p>\n",
       "</div>"
      ],
      "text/plain": [
       "                id  n_victimas  aaaa  mm  dd                fecha      hora  \\\n",
       "0  LC-2019-0000179           1  2019   1   1  2019-01-01 00:00:00  09:00:00   \n",
       "1  LC-2019-0000053           1  2019   1   1  2019-01-01 00:00:00  01:55:00   \n",
       "\n",
       "  franja_hora direccion_normalizada comuna  ...     latutid   victima acusado  \\\n",
       "0           9                    SD     14  ...  -34.559658  CICLISTA      SD   \n",
       "1           1                    SD      8  ...  -34.669125      AUTO      SD   \n",
       "\n",
       "  participantes moto auto transporte_publico camion ciclista gravedad  \n",
       "0   CICLISTA-SD   SD   SD                 SD     SD        x       SD  \n",
       "1       AUTO-SD   SD    x                 SD     SD       SD       SD  \n",
       "\n",
       "[2 rows x 24 columns]"
      ]
     },
     "execution_count": 51,
     "metadata": {},
     "output_type": "execute_result"
    }
   ],
   "source": [
    "dflesionesHechos =dflesionesHechos.drop(columns=[\"calle\", \"altura\", \"cruce\"])\n",
    "dflesionesHechos.head(2)"
   ]
  },
  {
   "cell_type": "markdown",
   "metadata": {},
   "source": [
    "#### 6. Tipos de datos del dataframe (df_info())."
   ]
  },
  {
   "cell_type": "code",
   "execution_count": 52,
   "metadata": {},
   "outputs": [
    {
     "name": "stdout",
     "output_type": "stream",
     "text": [
      "<class 'pandas.core.frame.DataFrame'>\n",
      "Index: 23518 entries, 0 to 23784\n",
      "Data columns (total 24 columns):\n",
      " #   Column                 Non-Null Count  Dtype \n",
      "---  ------                 --------------  ----- \n",
      " 0   id                     23518 non-null  object\n",
      " 1   n_victimas             23518 non-null  int64 \n",
      " 2   aaaa                   23518 non-null  int64 \n",
      " 3   mm                     23518 non-null  int64 \n",
      " 4   dd                     23518 non-null  int64 \n",
      " 5   fecha                  23518 non-null  object\n",
      " 6   hora                   23518 non-null  object\n",
      " 7   franja_hora            23518 non-null  object\n",
      " 8   direccion_normalizada  23518 non-null  object\n",
      " 9   comuna                 23518 non-null  object\n",
      " 10  tipo_calle             23518 non-null  object\n",
      " 11  otra_direccion         23518 non-null  object\n",
      " 12  geocodificacion_CABA   23518 non-null  object\n",
      " 13  longitud               23518 non-null  object\n",
      " 14  latutid                23518 non-null  object\n",
      " 15  victima                23518 non-null  object\n",
      " 16  acusado                23518 non-null  object\n",
      " 17  participantes          23518 non-null  object\n",
      " 18  moto                   23518 non-null  object\n",
      " 19  auto                   23518 non-null  object\n",
      " 20  transporte_publico     23518 non-null  object\n",
      " 21  camion                 23518 non-null  object\n",
      " 22  ciclista               23518 non-null  object\n",
      " 23  gravedad               23518 non-null  object\n",
      "dtypes: int64(4), object(20)\n",
      "memory usage: 4.5+ MB\n"
     ]
    }
   ],
   "source": [
    "dflesionesHechos.info()"
   ]
  },
  {
   "cell_type": "markdown",
   "metadata": {},
   "source": [
    "#### 7. Convertir a tipo de datos necesarios para mi análisis."
   ]
  },
  {
   "cell_type": "code",
   "execution_count": null,
   "metadata": {},
   "outputs": [],
   "source": []
  },
  {
   "cell_type": "markdown",
   "metadata": {},
   "source": [
    "#### 8. Guardar dataframe para el análisis exploratorio de datos.\n",
    "\n",
    "df_developer.to_csv('Datasets_endpoints/dfdeveloper.csv', index=False)\n",
    "\n",
    "df_developer.info()"
   ]
  },
  {
   "cell_type": "code",
   "execution_count": null,
   "metadata": {},
   "outputs": [],
   "source": []
  },
  {
   "cell_type": "markdown",
   "metadata": {},
   "source": [
    "#### 1. Carga de mi dataframe lesiones.victimas"
   ]
  },
  {
   "cell_type": "code",
   "execution_count": 53,
   "metadata": {},
   "outputs": [
    {
     "data": {
      "text/html": [
       "<div>\n",
       "<style scoped>\n",
       "    .dataframe tbody tr th:only-of-type {\n",
       "        vertical-align: middle;\n",
       "    }\n",
       "\n",
       "    .dataframe tbody tr th {\n",
       "        vertical-align: top;\n",
       "    }\n",
       "\n",
       "    .dataframe thead th {\n",
       "        text-align: right;\n",
       "    }\n",
       "</style>\n",
       "<table border=\"1\" class=\"dataframe\">\n",
       "  <thead>\n",
       "    <tr style=\"text-align: right;\">\n",
       "      <th></th>\n",
       "      <th>ID hecho</th>\n",
       "      <th>AAA</th>\n",
       "      <th>MM</th>\n",
       "      <th>DD</th>\n",
       "      <th>FECHA</th>\n",
       "      <th>VEHICULO_VICTIMA</th>\n",
       "      <th>SEXO</th>\n",
       "      <th>EDAD_VICTIMA</th>\n",
       "      <th>GRAVEDAD</th>\n",
       "    </tr>\n",
       "  </thead>\n",
       "  <tbody>\n",
       "    <tr>\n",
       "      <th>0</th>\n",
       "      <td>LC-2019-0000053</td>\n",
       "      <td>2019</td>\n",
       "      <td>1</td>\n",
       "      <td>1</td>\n",
       "      <td>2019-01-01</td>\n",
       "      <td>sd</td>\n",
       "      <td>Varon</td>\n",
       "      <td>57</td>\n",
       "      <td>SD</td>\n",
       "    </tr>\n",
       "    <tr>\n",
       "      <th>1</th>\n",
       "      <td>LC-2019-0000063</td>\n",
       "      <td>2019</td>\n",
       "      <td>1</td>\n",
       "      <td>1</td>\n",
       "      <td>2019-01-01</td>\n",
       "      <td>sd</td>\n",
       "      <td>SD</td>\n",
       "      <td>SD</td>\n",
       "      <td>SD</td>\n",
       "    </tr>\n",
       "  </tbody>\n",
       "</table>\n",
       "</div>"
      ],
      "text/plain": [
       "          ID hecho   AAA  MM  DD     FECHA  VEHICULO_VICTIMA   SEXO  \\\n",
       "0  LC-2019-0000053  2019   1   1 2019-01-01               sd  Varon   \n",
       "1  LC-2019-0000063  2019   1   1 2019-01-01               sd     SD   \n",
       "\n",
       "  EDAD_VICTIMA GRAVEDAD  \n",
       "0           57       SD  \n",
       "1           SD       SD  "
      ]
     },
     "execution_count": 53,
     "metadata": {},
     "output_type": "execute_result"
    }
   ],
   "source": [
    "dflesionesVictimas= pd.read_excel(\"Datasets/lesiones.victimas.xlsx\")\n",
    "dflesionesVictimas.head(2)"
   ]
  },
  {
   "cell_type": "markdown",
   "metadata": {},
   "source": [
    "#### 2. Verificación de existencia de nulos y su tratamiento (borrar nulos).\n",
    "- No hay nulos en las columnas."
   ]
  },
  {
   "cell_type": "code",
   "execution_count": 54,
   "metadata": {},
   "outputs": [
    {
     "data": {
      "text/plain": [
       "ID hecho            0\n",
       "AAA                 0\n",
       "MM                  0\n",
       "DD                  0\n",
       "FECHA               0\n",
       "VEHICULO_VICTIMA    0\n",
       "SEXO                0\n",
       "EDAD_VICTIMA        0\n",
       "GRAVEDAD            0\n",
       "dtype: int64"
      ]
     },
     "execution_count": 54,
     "metadata": {},
     "output_type": "execute_result"
    }
   ],
   "source": [
    "dflesionesVictimas.isnull().sum()"
   ]
  },
  {
   "cell_type": "markdown",
   "metadata": {},
   "source": [
    "#### 3. Verificación de existencia de duplicados (borrar duplicados)."
   ]
  },
  {
   "cell_type": "code",
   "execution_count": 55,
   "metadata": {},
   "outputs": [],
   "source": [
    "dflesionesVictimas = dflesionesVictimas.drop_duplicates()"
   ]
  },
  {
   "cell_type": "markdown",
   "metadata": {},
   "source": [
    "#### 4. Análisis estadísticos del dataframe (df.describe).\n",
    "- No arroja ninguna conclusión relevante."
   ]
  },
  {
   "cell_type": "code",
   "execution_count": 56,
   "metadata": {},
   "outputs": [
    {
     "data": {
      "text/html": [
       "<div>\n",
       "<style scoped>\n",
       "    .dataframe tbody tr th:only-of-type {\n",
       "        vertical-align: middle;\n",
       "    }\n",
       "\n",
       "    .dataframe tbody tr th {\n",
       "        vertical-align: top;\n",
       "    }\n",
       "\n",
       "    .dataframe thead th {\n",
       "        text-align: right;\n",
       "    }\n",
       "</style>\n",
       "<table border=\"1\" class=\"dataframe\">\n",
       "  <thead>\n",
       "    <tr style=\"text-align: right;\">\n",
       "      <th></th>\n",
       "      <th>AAA</th>\n",
       "      <th>MM</th>\n",
       "      <th>DD</th>\n",
       "      <th>FECHA</th>\n",
       "    </tr>\n",
       "  </thead>\n",
       "  <tbody>\n",
       "    <tr>\n",
       "      <th>count</th>\n",
       "      <td>26983.000000</td>\n",
       "      <td>26983.000000</td>\n",
       "      <td>26983.000000</td>\n",
       "      <td>26983</td>\n",
       "    </tr>\n",
       "    <tr>\n",
       "      <th>mean</th>\n",
       "      <td>2019.909202</td>\n",
       "      <td>6.653967</td>\n",
       "      <td>15.609050</td>\n",
       "      <td>2020-06-02 04:20:54.656636160</td>\n",
       "    </tr>\n",
       "    <tr>\n",
       "      <th>min</th>\n",
       "      <td>2019.000000</td>\n",
       "      <td>1.000000</td>\n",
       "      <td>1.000000</td>\n",
       "      <td>2019-01-01 00:00:00</td>\n",
       "    </tr>\n",
       "    <tr>\n",
       "      <th>25%</th>\n",
       "      <td>2019.000000</td>\n",
       "      <td>3.000000</td>\n",
       "      <td>8.000000</td>\n",
       "      <td>2019-07-20 00:00:00</td>\n",
       "    </tr>\n",
       "    <tr>\n",
       "      <th>50%</th>\n",
       "      <td>2020.000000</td>\n",
       "      <td>7.000000</td>\n",
       "      <td>16.000000</td>\n",
       "      <td>2020-04-12 00:00:00</td>\n",
       "    </tr>\n",
       "    <tr>\n",
       "      <th>75%</th>\n",
       "      <td>2021.000000</td>\n",
       "      <td>10.000000</td>\n",
       "      <td>23.000000</td>\n",
       "      <td>2021-04-09 00:00:00</td>\n",
       "    </tr>\n",
       "    <tr>\n",
       "      <th>max</th>\n",
       "      <td>2021.000000</td>\n",
       "      <td>12.000000</td>\n",
       "      <td>31.000000</td>\n",
       "      <td>2021-12-31 00:00:00</td>\n",
       "    </tr>\n",
       "    <tr>\n",
       "      <th>std</th>\n",
       "      <td>0.860510</td>\n",
       "      <td>3.479059</td>\n",
       "      <td>8.688378</td>\n",
       "      <td>NaN</td>\n",
       "    </tr>\n",
       "  </tbody>\n",
       "</table>\n",
       "</div>"
      ],
      "text/plain": [
       "                AAA            MM            DD                         FECHA \n",
       "count  26983.000000  26983.000000  26983.000000                          26983\n",
       "mean    2019.909202      6.653967     15.609050  2020-06-02 04:20:54.656636160\n",
       "min     2019.000000      1.000000      1.000000            2019-01-01 00:00:00\n",
       "25%     2019.000000      3.000000      8.000000            2019-07-20 00:00:00\n",
       "50%     2020.000000      7.000000     16.000000            2020-04-12 00:00:00\n",
       "75%     2021.000000     10.000000     23.000000            2021-04-09 00:00:00\n",
       "max     2021.000000     12.000000     31.000000            2021-12-31 00:00:00\n",
       "std        0.860510      3.479059      8.688378                            NaN"
      ]
     },
     "execution_count": 56,
     "metadata": {},
     "output_type": "execute_result"
    }
   ],
   "source": [
    "dflesionesVictimas.describe()"
   ]
  },
  {
   "cell_type": "markdown",
   "metadata": {},
   "source": [
    "#### 5. Elección de columnas del dataframe.\n",
    "-Se eligen todas la columnas, ninguna se descarta."
   ]
  },
  {
   "cell_type": "code",
   "execution_count": null,
   "metadata": {},
   "outputs": [],
   "source": []
  },
  {
   "cell_type": "markdown",
   "metadata": {},
   "source": [
    "#### 6. Tipos de datos del dataframe (df_info())."
   ]
  },
  {
   "cell_type": "code",
   "execution_count": 57,
   "metadata": {},
   "outputs": [
    {
     "name": "stdout",
     "output_type": "stream",
     "text": [
      "<class 'pandas.core.frame.DataFrame'>\n",
      "Index: 26983 entries, 0 to 27604\n",
      "Data columns (total 9 columns):\n",
      " #   Column            Non-Null Count  Dtype         \n",
      "---  ------            --------------  -----         \n",
      " 0   ID hecho          26983 non-null  object        \n",
      " 1   AAA               26983 non-null  int64         \n",
      " 2   MM                26983 non-null  int64         \n",
      " 3   DD                26983 non-null  int64         \n",
      " 4   FECHA             26983 non-null  datetime64[ns]\n",
      " 5   VEHICULO_VICTIMA  26983 non-null  object        \n",
      " 6   SEXO              26983 non-null  object        \n",
      " 7   EDAD_VICTIMA      26983 non-null  object        \n",
      " 8   GRAVEDAD          26983 non-null  object        \n",
      "dtypes: datetime64[ns](1), int64(3), object(5)\n",
      "memory usage: 2.1+ MB\n"
     ]
    }
   ],
   "source": [
    "dflesionesVictimas.info()"
   ]
  },
  {
   "cell_type": "markdown",
   "metadata": {},
   "source": [
    "#### 7. Convertir a tipo de datos necesarios para mi análisis."
   ]
  },
  {
   "cell_type": "code",
   "execution_count": null,
   "metadata": {},
   "outputs": [],
   "source": []
  },
  {
   "cell_type": "markdown",
   "metadata": {},
   "source": [
    "#### 8. Guardar dataframe para el análisis exploratorio de datos.\n",
    "\n",
    "df_developer.to_csv('Datasets_endpoints/dfdeveloper.csv', index=False)\n",
    "\n",
    "df_developer.info()"
   ]
  },
  {
   "cell_type": "code",
   "execution_count": null,
   "metadata": {},
   "outputs": [],
   "source": []
  }
 ],
 "metadata": {
  "kernelspec": {
   "display_name": "venv",
   "language": "python",
   "name": "python3"
  },
  "language_info": {
   "codemirror_mode": {
    "name": "ipython",
    "version": 3
   },
   "file_extension": ".py",
   "mimetype": "text/x-python",
   "name": "python",
   "nbconvert_exporter": "python",
   "pygments_lexer": "ipython3",
   "version": "3.11.8"
  }
 },
 "nbformat": 4,
 "nbformat_minor": 2
}

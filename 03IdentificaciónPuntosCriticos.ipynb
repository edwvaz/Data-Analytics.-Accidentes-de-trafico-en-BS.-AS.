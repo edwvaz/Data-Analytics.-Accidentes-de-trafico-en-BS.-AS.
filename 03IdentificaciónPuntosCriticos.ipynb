{
 "cells": [
  {
   "cell_type": "markdown",
   "metadata": {},
   "source": [
    "# 03 Identificación de Patrones.\n",
    "\n",
    "#### Metodología para la Distribución Estratégica de Centros de Gravedad en Accidentes Viales.\n",
    "\n",
    "- Se ha implementado una metodología para la distribución estratégica de centros de gravedad. \n",
    "- El objetivo principal es generar una tabla con 10 centros de gravedad a partir de las coordenadas correspondientes a los lugares donde han ocurrido accidentes. \n",
    "- La finalidad de esta aproximación es maximizar la cobertura de controles y recursos en áreas específicas, con el propósito de mejorar la seguridad vial.\n",
    "- La implementación se basa en el algoritmo de clustering K-Means, proporcionado por la biblioteca scikit-learn en Python."
   ]
  },
  {
   "cell_type": "markdown",
   "metadata": {},
   "source": [
    "#### Importo Librerías"
   ]
  },
  {
   "cell_type": "code",
   "execution_count": 2,
   "metadata": {},
   "outputs": [],
   "source": [
    "import pandas as pd\n",
    "from sklearn.cluster import KMeans"
   ]
  },
  {
   "cell_type": "markdown",
   "metadata": {},
   "source": [
    "#### Cargo mi dataframe"
   ]
  },
  {
   "cell_type": "code",
   "execution_count": 6,
   "metadata": {},
   "outputs": [
    {
     "name": "stdout",
     "output_type": "stream",
     "text": [
      "<class 'pandas.core.frame.DataFrame'>\n",
      "RangeIndex: 683 entries, 0 to 682\n",
      "Data columns (total 19 columns):\n",
      " #   Column                 Non-Null Count  Dtype         \n",
      "---  ------                 --------------  -----         \n",
      " 0   ID                     683 non-null    object        \n",
      " 1   N_VICTIMAS             683 non-null    int64         \n",
      " 2   FECHA                  683 non-null    datetime64[ns]\n",
      " 3   AAAA                   683 non-null    int64         \n",
      " 4   MM                     683 non-null    int64         \n",
      " 5   DD                     683 non-null    int64         \n",
      " 6   HORA                   683 non-null    object        \n",
      " 7   HH                     683 non-null    object        \n",
      " 8   LUGAR_DEL_HECHO        683 non-null    object        \n",
      " 9   TIPO_DE_CALLE          683 non-null    object        \n",
      " 10  Calle                  683 non-null    object        \n",
      " 11  Dirección Normalizada  683 non-null    object        \n",
      " 12  COMUNA                 683 non-null    int64         \n",
      " 13  XY (CABA)              683 non-null    object        \n",
      " 14  pos x                  683 non-null    float64       \n",
      " 15  pos y                  683 non-null    float64       \n",
      " 16  PARTICIPANTES          683 non-null    object        \n",
      " 17  VICTIMA                683 non-null    object        \n",
      " 18  ACUSADO                683 non-null    object        \n",
      "dtypes: datetime64[ns](1), float64(2), int64(5), object(11)\n",
      "memory usage: 101.5+ KB\n"
     ]
    }
   ],
   "source": [
    "dfhomicidiosHechos = pd.read_excel('DatasetsEDA/dfhomicidiosHechos.xlsx')\n",
    "dfhomicidiosHechos.info()"
   ]
  },
  {
   "cell_type": "code",
   "execution_count": 5,
   "metadata": {},
   "outputs": [
    {
     "name": "stdout",
     "output_type": "stream",
     "text": [
      "    Centro_x   Centro_y\n",
      "0 -58.511360 -34.637007\n",
      "1 -58.379629 -34.629694\n",
      "2 -58.496218 -34.575807\n",
      "3 -58.428335 -34.654450\n",
      "4 -58.435957 -34.585457\n",
      "5 -58.462124 -34.629496\n",
      "6 -58.412751 -34.616500\n",
      "7 -58.457491 -34.549523\n",
      "8 -58.480511 -34.676963\n",
      "9 -58.385231 -34.595023\n"
     ]
    }
   ],
   "source": [
    "# Seleccionar las columnas de coordenadas\n",
    "coordenadas = dfhomicidiosHechos[['pos x', 'pos y']]\n",
    "\n",
    "# Convertir las coordenadas a formato numérico\n",
    "coordenadas = coordenadas.apply(pd.to_numeric, errors='coerce')\n",
    "\n",
    "# Especificar el número de centroides que deseas (10 en este caso)\n",
    "num_centroides = 10\n",
    "\n",
    "# Aplicar el algoritmo K-Means\n",
    "kmeans = KMeans(n_clusters=num_centroides, random_state=42)\n",
    "dfhomicidiosHechos['Cluster'] = kmeans.fit_predict(coordenadas)\n",
    "\n",
    "# Obtener los centroides de los clusters\n",
    "centroides = pd.DataFrame(kmeans.cluster_centers_, columns=['Centro_x', 'Centro_y'])\n",
    "\n",
    "# Guardar los centroides en un archivo CSV si es necesario\n",
    "centroides.to_excel('DatasetsEDA/centroides.xlsx', index=False)\n",
    "\n",
    "# Visualizar los centroides\n",
    "print(centroides)"
   ]
  },
  {
   "cell_type": "code",
   "execution_count": null,
   "metadata": {},
   "outputs": [],
   "source": [
    "dfhomicidiosHechos = pd.read_excel('DatasetsEDA/dfhomicidiosHechos.xlsx')"
   ]
  },
  {
   "cell_type": "code",
   "execution_count": null,
   "metadata": {},
   "outputs": [],
   "source": [
    "dfhomicidiosHechos.to_csv('DatasetsEDA/dfhomicidiosHechos1.csv', index=False)"
   ]
  }
 ],
 "metadata": {
  "kernelspec": {
   "display_name": "venv",
   "language": "python",
   "name": "python3"
  },
  "language_info": {
   "codemirror_mode": {
    "name": "ipython",
    "version": 3
   },
   "file_extension": ".py",
   "mimetype": "text/x-python",
   "name": "python",
   "nbconvert_exporter": "python",
   "pygments_lexer": "ipython3",
   "version": "3.11.8"
  }
 },
 "nbformat": 4,
 "nbformat_minor": 2
}
